{
 "cells": [
  {
   "cell_type": "code",
   "execution_count": 1,
   "id": "197be3a1",
   "metadata": {},
   "outputs": [
    {
     "data": {
      "text/plain": [
       "2"
      ]
     },
     "execution_count": 1,
     "metadata": {},
     "output_type": "execute_result"
    }
   ],
   "source": [
    "1+1"
   ]
  },
  {
   "cell_type": "markdown",
   "id": "2aeec5cf",
   "metadata": {},
   "source": [
    "## sdsdsdsd"
   ]
  },
  {
   "cell_type": "code",
   "execution_count": 2,
   "id": "ca7a1e49",
   "metadata": {},
   "outputs": [
    {
     "data": {
      "text/plain": [
       "2"
      ]
     },
     "execution_count": 2,
     "metadata": {},
     "output_type": "execute_result"
    }
   ],
   "source": [
    "4-2"
   ]
  },
  {
   "cell_type": "code",
   "execution_count": 3,
   "id": "0853dc49",
   "metadata": {},
   "outputs": [
    {
     "data": {
      "text/plain": [
       "16"
      ]
     },
     "execution_count": 3,
     "metadata": {},
     "output_type": "execute_result"
    }
   ],
   "source": [
    "4*4\n",
    "\n"
   ]
  },
  {
   "cell_type": "code",
   "execution_count": 4,
   "id": "5f282b5c",
   "metadata": {},
   "outputs": [
    {
     "data": {
      "text/plain": [
       "str"
      ]
     },
     "execution_count": 4,
     "metadata": {},
     "output_type": "execute_result"
    }
   ],
   "source": [
    "type(\"fdf\")"
   ]
  },
  {
   "cell_type": "code",
   "execution_count": 5,
   "id": "fb9437e5",
   "metadata": {},
   "outputs": [
    {
     "data": {
      "text/plain": [
       "16"
      ]
     },
     "execution_count": 5,
     "metadata": {},
     "output_type": "execute_result"
    }
   ],
   "source": [
    "2**4"
   ]
  },
  {
   "cell_type": "markdown",
   "id": "e489b2e1",
   "metadata": {},
   "source": [
    "dfdfdf"
   ]
  },
  {
   "cell_type": "code",
   "execution_count": 8,
   "id": "e9e44abf",
   "metadata": {},
   "outputs": [],
   "source": [
    "x=3"
   ]
  },
  {
   "cell_type": "code",
   "execution_count": 9,
   "id": "b71b112f",
   "metadata": {},
   "outputs": [
    {
     "data": {
      "text/plain": [
       "3"
      ]
     },
     "execution_count": 9,
     "metadata": {},
     "output_type": "execute_result"
    }
   ],
   "source": [
    "x"
   ]
  },
  {
   "cell_type": "code",
   "execution_count": 10,
   "id": "a5f6d453",
   "metadata": {},
   "outputs": [],
   "source": [
    "name_of_god=\"thor\""
   ]
  },
  {
   "cell_type": "code",
   "execution_count": 12,
   "id": "1da51578",
   "metadata": {},
   "outputs": [
    {
     "data": {
      "text/plain": [
       "'thor'"
      ]
     },
     "execution_count": 12,
     "metadata": {},
     "output_type": "execute_result"
    }
   ],
   "source": [
    "name_of_god"
   ]
  },
  {
   "cell_type": "code",
   "execution_count": 13,
   "id": "8c0a51c3",
   "metadata": {},
   "outputs": [
    {
     "data": {
      "text/plain": [
       "'add'"
      ]
     },
     "execution_count": 13,
     "metadata": {},
     "output_type": "execute_result"
    }
   ],
   "source": [
    "\"add\""
   ]
  },
  {
   "cell_type": "code",
   "execution_count": 14,
   "id": "b8baf8ec",
   "metadata": {},
   "outputs": [
    {
     "data": {
      "text/plain": [
       "'sdsd'"
      ]
     },
     "execution_count": 14,
     "metadata": {},
     "output_type": "execute_result"
    }
   ],
   "source": [
    "'sdsd'"
   ]
  },
  {
   "cell_type": "code",
   "execution_count": 16,
   "id": "c41826d7",
   "metadata": {},
   "outputs": [
    {
     "data": {
      "text/plain": [
       "\"i don't like that\""
      ]
     },
     "execution_count": 16,
     "metadata": {},
     "output_type": "execute_result"
    }
   ],
   "source": [
    "\"i don't like that\""
   ]
  },
  {
   "cell_type": "code",
   "execution_count": 17,
   "id": "745930ce",
   "metadata": {},
   "outputs": [
    {
     "data": {
      "text/plain": [
       "'i don\"t like this'"
      ]
     },
     "execution_count": 17,
     "metadata": {},
     "output_type": "execute_result"
    }
   ],
   "source": [
    "'i don\"t like this'"
   ]
  },
  {
   "cell_type": "code",
   "execution_count": 18,
   "id": "57638026",
   "metadata": {},
   "outputs": [
    {
     "name": "stdout",
     "output_type": "stream",
     "text": [
      "hellow\n"
     ]
    }
   ],
   "source": [
    "print(\"hellow\")"
   ]
  },
  {
   "cell_type": "code",
   "execution_count": 20,
   "id": "3b0416d6",
   "metadata": {},
   "outputs": [
    {
     "name": "stdout",
     "output_type": "stream",
     "text": [
      "hello  ass\n"
     ]
    }
   ],
   "source": [
    "print(\"hello\"+\"  ass\")"
   ]
  },
  {
   "cell_type": "code",
   "execution_count": 24,
   "id": "4bbf90fa",
   "metadata": {},
   "outputs": [
    {
     "name": "stdout",
     "output_type": "stream",
     "text": [
      "my name is Kavindu. My number is 703889630\n"
     ]
    }
   ],
   "source": [
    "print(\"my name is {}. My number is {}\".format(\"Kavindu\",703889630))"
   ]
  },
  {
   "cell_type": "code",
   "execution_count": 25,
   "id": "f6c0282a",
   "metadata": {},
   "outputs": [
    {
     "data": {
      "text/plain": [
       "[34, 4545, 5454, 454]"
      ]
     },
     "execution_count": 25,
     "metadata": {},
     "output_type": "execute_result"
    }
   ],
   "source": [
    "[34,4545,5454,454]"
   ]
  },
  {
   "cell_type": "code",
   "execution_count": 26,
   "id": "7f3265c2",
   "metadata": {},
   "outputs": [
    {
     "data": {
      "text/plain": [
       "['dsds', 3434]"
      ]
     },
     "execution_count": 26,
     "metadata": {},
     "output_type": "execute_result"
    }
   ],
   "source": [
    "[\"dsds\",3434]"
   ]
  },
  {
   "cell_type": "code",
   "execution_count": 27,
   "id": "ab1c6e05",
   "metadata": {},
   "outputs": [],
   "source": [
    "x=[34,53,43,43,4,3,43,4]"
   ]
  },
  {
   "cell_type": "code",
   "execution_count": 36,
   "id": "7dc81c15",
   "metadata": {},
   "outputs": [],
   "source": [
    "x[-2]=0"
   ]
  },
  {
   "cell_type": "markdown",
   "id": "64f3b6f7",
   "metadata": {},
   "source": [
    "## x.count"
   ]
  },
  {
   "cell_type": "code",
   "execution_count": 37,
   "id": "8394316c",
   "metadata": {},
   "outputs": [
    {
     "data": {
      "text/plain": [
       "[34, 53, 43, 43, 4, 3, 0, 4]"
      ]
     },
     "execution_count": 37,
     "metadata": {},
     "output_type": "execute_result"
    }
   ],
   "source": [
    "x\n"
   ]
  },
  {
   "cell_type": "code",
   "execution_count": 38,
   "id": "81bd9c66",
   "metadata": {},
   "outputs": [],
   "source": [
    "x.append(222)"
   ]
  },
  {
   "cell_type": "code",
   "execution_count": 39,
   "id": "be0b594d",
   "metadata": {},
   "outputs": [
    {
     "data": {
      "text/plain": [
       "[34, 53, 43, 43, 4, 3, 0, 4, 222]"
      ]
     },
     "execution_count": 39,
     "metadata": {},
     "output_type": "execute_result"
    }
   ],
   "source": [
    "x"
   ]
  },
  {
   "cell_type": "code",
   "execution_count": 40,
   "id": "ef9f8d56",
   "metadata": {},
   "outputs": [],
   "source": [
    "d={\"key1\":3,\"k2\":\"4\"}"
   ]
  },
  {
   "cell_type": "code",
   "execution_count": 41,
   "id": "880ec6e3",
   "metadata": {},
   "outputs": [
    {
     "data": {
      "text/plain": [
       "3"
      ]
     },
     "execution_count": 41,
     "metadata": {},
     "output_type": "execute_result"
    }
   ],
   "source": [
    "d[\"key1\"]"
   ]
  },
  {
   "cell_type": "code",
   "execution_count": 42,
   "id": "f7017373",
   "metadata": {},
   "outputs": [
    {
     "data": {
      "text/plain": [
       "{'key1': 3, 'k2': '4'}"
      ]
     },
     "execution_count": 42,
     "metadata": {},
     "output_type": "execute_result"
    }
   ],
   "source": [
    "d"
   ]
  },
  {
   "cell_type": "code",
   "execution_count": 43,
   "id": "88574ad1",
   "metadata": {},
   "outputs": [
    {
     "data": {
      "text/plain": [
       "{'key1': 3, 'k2': '4'}"
      ]
     },
     "execution_count": 43,
     "metadata": {},
     "output_type": "execute_result"
    }
   ],
   "source": [
    "d"
   ]
  },
  {
   "cell_type": "code",
   "execution_count": 44,
   "id": "1f8f45ed",
   "metadata": {},
   "outputs": [
    {
     "data": {
      "text/plain": [
       "{'key1': 3, 'k2': '4'}"
      ]
     },
     "execution_count": 44,
     "metadata": {},
     "output_type": "execute_result"
    }
   ],
   "source": [
    "d"
   ]
  },
  {
   "cell_type": "code",
   "execution_count": 45,
   "id": "d5ae2ddb",
   "metadata": {},
   "outputs": [
    {
     "data": {
      "text/plain": [
       "{'key1': 3, 'k2': '4'}"
      ]
     },
     "execution_count": 45,
     "metadata": {},
     "output_type": "execute_result"
    }
   ],
   "source": [
    "d"
   ]
  },
  {
   "cell_type": "code",
   "execution_count": 47,
   "id": "875b1233",
   "metadata": {},
   "outputs": [
    {
     "data": {
      "text/plain": [
       "True"
      ]
     },
     "execution_count": 47,
     "metadata": {},
     "output_type": "execute_result"
    }
   ],
   "source": [
    "True"
   ]
  },
  {
   "cell_type": "code",
   "execution_count": null,
   "id": "2dd56d37",
   "metadata": {},
   "outputs": [],
   "source": [
    "id(3)\n",
    "    print(\"sd\")\n",
    "else\n",
    "    print(\"pppp\")"
   ]
  }
 ],
 "metadata": {
  "kernelspec": {
   "display_name": "Python 3 (ipykernel)",
   "language": "python",
   "name": "python3"
  },
  "language_info": {
   "codemirror_mode": {
    "name": "ipython",
    "version": 3
   },
   "file_extension": ".py",
   "mimetype": "text/x-python",
   "name": "python",
   "nbconvert_exporter": "python",
   "pygments_lexer": "ipython3",
   "version": "3.11.5"
  }
 },
 "nbformat": 4,
 "nbformat_minor": 5
}
