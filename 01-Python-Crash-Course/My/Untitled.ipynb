{
 "cells": [
  {
   "cell_type": "code",
   "execution_count": 1,
   "id": "887f30d5",
   "metadata": {},
   "outputs": [
    {
     "data": {
      "text/plain": [
       "2"
      ]
     },
     "execution_count": 1,
     "metadata": {},
     "output_type": "execute_result"
    }
   ],
   "source": [
    "1+1"
   ]
  },
  {
   "cell_type": "markdown",
   "id": "cb5286e4",
   "metadata": {},
   "source": [
    "## sdsdsdsd"
   ]
  },
  {
   "cell_type": "code",
   "execution_count": 2,
   "id": "8e8d3fce",
   "metadata": {},
   "outputs": [
    {
     "data": {
      "text/plain": [
       "2"
      ]
     },
     "execution_count": 2,
     "metadata": {},
     "output_type": "execute_result"
    }
   ],
   "source": [
    "4-2"
   ]
  },
  {
   "cell_type": "code",
   "execution_count": 3,
   "id": "587b89f7",
   "metadata": {},
   "outputs": [
    {
     "data": {
      "text/plain": [
       "16"
      ]
     },
     "execution_count": 3,
     "metadata": {},
     "output_type": "execute_result"
    }
   ],
   "source": [
    "4*4\n",
    "\n"
   ]
  },
  {
   "cell_type": "code",
   "execution_count": 4,
   "id": "e863caef",
   "metadata": {},
   "outputs": [
    {
     "data": {
      "text/plain": [
       "str"
      ]
     },
     "execution_count": 4,
     "metadata": {},
     "output_type": "execute_result"
    }
   ],
   "source": [
    "type(\"fdf\")"
   ]
  },
  {
   "cell_type": "code",
   "execution_count": 5,
   "id": "1e92d1e2",
   "metadata": {},
   "outputs": [
    {
     "data": {
      "text/plain": [
       "16"
      ]
     },
     "execution_count": 5,
     "metadata": {},
     "output_type": "execute_result"
    }
   ],
   "source": [
    "2**4"
   ]
  },
  {
   "cell_type": "markdown",
   "id": "9bae2968",
   "metadata": {},
   "source": [
    "dfdfdf"
   ]
  },
  {
   "cell_type": "code",
   "execution_count": 8,
   "id": "113bd24c",
   "metadata": {},
   "outputs": [],
   "source": [
    "x=3"
   ]
  },
  {
   "cell_type": "code",
   "execution_count": 9,
   "id": "7ccebf2d",
   "metadata": {},
   "outputs": [
    {
     "data": {
      "text/plain": [
       "3"
      ]
     },
     "execution_count": 9,
     "metadata": {},
     "output_type": "execute_result"
    }
   ],
   "source": [
    "x"
   ]
  },
  {
   "cell_type": "code",
   "execution_count": 10,
   "id": "52c3413c",
   "metadata": {},
   "outputs": [],
   "source": [
    "name_of_god=\"thor\""
   ]
  },
  {
   "cell_type": "code",
   "execution_count": 12,
   "id": "99540a91",
   "metadata": {},
   "outputs": [
    {
     "data": {
      "text/plain": [
       "'thor'"
      ]
     },
     "execution_count": 12,
     "metadata": {},
     "output_type": "execute_result"
    }
   ],
   "source": [
    "name_of_god"
   ]
  },
  {
   "cell_type": "code",
   "execution_count": 13,
   "id": "9e339aa6",
   "metadata": {},
   "outputs": [
    {
     "data": {
      "text/plain": [
       "'add'"
      ]
     },
     "execution_count": 13,
     "metadata": {},
     "output_type": "execute_result"
    }
   ],
   "source": [
    "\"add\""
   ]
  },
  {
   "cell_type": "code",
   "execution_count": 14,
   "id": "6755ae5b",
   "metadata": {},
   "outputs": [
    {
     "data": {
      "text/plain": [
       "'sdsd'"
      ]
     },
     "execution_count": 14,
     "metadata": {},
     "output_type": "execute_result"
    }
   ],
   "source": [
    "'sdsd'"
   ]
  },
  {
   "cell_type": "code",
   "execution_count": 16,
   "id": "a5e61a3f",
   "metadata": {},
   "outputs": [
    {
     "data": {
      "text/plain": [
       "\"i don't like that\""
      ]
     },
     "execution_count": 16,
     "metadata": {},
     "output_type": "execute_result"
    }
   ],
   "source": [
    "\"i don't like that\""
   ]
  },
  {
   "cell_type": "code",
   "execution_count": 17,
   "id": "7444e7d4",
   "metadata": {},
   "outputs": [
    {
     "data": {
      "text/plain": [
       "'i don\"t like this'"
      ]
     },
     "execution_count": 17,
     "metadata": {},
     "output_type": "execute_result"
    }
   ],
   "source": [
    "'i don\"t like this'"
   ]
  },
  {
   "cell_type": "code",
   "execution_count": 18,
   "id": "2b8a2494",
   "metadata": {},
   "outputs": [
    {
     "name": "stdout",
     "output_type": "stream",
     "text": [
      "hellow\n"
     ]
    }
   ],
   "source": [
    "print(\"hellow\")"
   ]
  },
  {
   "cell_type": "code",
   "execution_count": 20,
   "id": "8f83b636",
   "metadata": {},
   "outputs": [
    {
     "name": "stdout",
     "output_type": "stream",
     "text": [
      "hello  ass\n"
     ]
    }
   ],
   "source": [
    "print(\"hello\"+\"  ass\")"
   ]
  },
  {
   "cell_type": "code",
   "execution_count": 24,
   "id": "dcf036ca",
   "metadata": {},
   "outputs": [
    {
     "name": "stdout",
     "output_type": "stream",
     "text": [
      "my name is Kavindu. My number is 703889630\n"
     ]
    }
   ],
   "source": [
    "print(\"my name is {}. My number is {}\".format(\"Kavindu\",703889630))"
   ]
  },
  {
   "cell_type": "code",
   "execution_count": 25,
   "id": "3b6aa8e9",
   "metadata": {},
   "outputs": [
    {
     "data": {
      "text/plain": [
       "[34, 4545, 5454, 454]"
      ]
     },
     "execution_count": 25,
     "metadata": {},
     "output_type": "execute_result"
    }
   ],
   "source": [
    "[34,4545,5454,454]"
   ]
  },
  {
   "cell_type": "code",
   "execution_count": 26,
   "id": "f7bffe98",
   "metadata": {},
   "outputs": [
    {
     "data": {
      "text/plain": [
       "['dsds', 3434]"
      ]
     },
     "execution_count": 26,
     "metadata": {},
     "output_type": "execute_result"
    }
   ],
   "source": [
    "[\"dsds\",3434]"
   ]
  },
  {
   "cell_type": "code",
   "execution_count": 27,
   "id": "1a46e783",
   "metadata": {},
   "outputs": [],
   "source": [
    "x=[34,53,43,43,4,3,43,4]"
   ]
  },
  {
   "cell_type": "code",
   "execution_count": 36,
   "id": "b6a50693",
   "metadata": {},
   "outputs": [],
   "source": [
    "x[-2]=0"
   ]
  },
  {
   "cell_type": "markdown",
   "id": "859689ac",
   "metadata": {},
   "source": [
    "## x.count"
   ]
  },
  {
   "cell_type": "code",
   "execution_count": 37,
   "id": "6071fcdf",
   "metadata": {},
   "outputs": [
    {
     "data": {
      "text/plain": [
       "[34, 53, 43, 43, 4, 3, 0, 4]"
      ]
     },
     "execution_count": 37,
     "metadata": {},
     "output_type": "execute_result"
    }
   ],
   "source": [
    "x\n"
   ]
  },
  {
   "cell_type": "code",
   "execution_count": 38,
   "id": "4967507d",
   "metadata": {},
   "outputs": [],
   "source": [
    "x.append(222)"
   ]
  },
  {
   "cell_type": "code",
   "execution_count": 39,
   "id": "cf4846ee",
   "metadata": {},
   "outputs": [
    {
     "data": {
      "text/plain": [
       "[34, 53, 43, 43, 4, 3, 0, 4, 222]"
      ]
     },
     "execution_count": 39,
     "metadata": {},
     "output_type": "execute_result"
    }
   ],
   "source": [
    "x"
   ]
  },
  {
   "cell_type": "code",
   "execution_count": 40,
   "id": "221adf42",
   "metadata": {},
   "outputs": [],
   "source": [
    "d={\"key1\":3,\"k2\":\"4\"}"
   ]
  },
  {
   "cell_type": "code",
   "execution_count": 41,
   "id": "b80f05be",
   "metadata": {},
   "outputs": [
    {
     "data": {
      "text/plain": [
       "3"
      ]
     },
     "execution_count": 41,
     "metadata": {},
     "output_type": "execute_result"
    }
   ],
   "source": [
    "d[\"key1\"]"
   ]
  },
  {
   "cell_type": "code",
   "execution_count": 42,
   "id": "e1a742c3",
   "metadata": {},
   "outputs": [
    {
     "data": {
      "text/plain": [
       "{'key1': 3, 'k2': '4'}"
      ]
     },
     "execution_count": 42,
     "metadata": {},
     "output_type": "execute_result"
    }
   ],
   "source": [
    "d"
   ]
  },
  {
   "cell_type": "code",
   "execution_count": 43,
   "id": "e690bd78",
   "metadata": {},
   "outputs": [
    {
     "data": {
      "text/plain": [
       "{'key1': 3, 'k2': '4'}"
      ]
     },
     "execution_count": 43,
     "metadata": {},
     "output_type": "execute_result"
    }
   ],
   "source": [
    "d"
   ]
  },
  {
   "cell_type": "code",
   "execution_count": 44,
   "id": "987d5267",
   "metadata": {},
   "outputs": [
    {
     "data": {
      "text/plain": [
       "{'key1': 3, 'k2': '4'}"
      ]
     },
     "execution_count": 44,
     "metadata": {},
     "output_type": "execute_result"
    }
   ],
   "source": [
    "d"
   ]
  },
  {
   "cell_type": "code",
   "execution_count": 45,
   "id": "1ca44c5d",
   "metadata": {},
   "outputs": [
    {
     "data": {
      "text/plain": [
       "{'key1': 3, 'k2': '4'}"
      ]
     },
     "execution_count": 45,
     "metadata": {},
     "output_type": "execute_result"
    }
   ],
   "source": [
    "d"
   ]
  },
  {
   "cell_type": "code",
   "execution_count": 47,
   "id": "c4e2e6a8",
   "metadata": {},
   "outputs": [
    {
     "data": {
      "text/plain": [
       "True"
      ]
     },
     "execution_count": 47,
     "metadata": {},
     "output_type": "execute_result"
    }
   ],
   "source": [
    "True"
   ]
  },
  {
   "cell_type": "code",
   "execution_count": 49,
   "id": "f28e4c8d",
   "metadata": {},
   "outputs": [
    {
     "ename": "SyntaxError",
     "evalue": "expected ':' (3909678775.py, line 1)",
     "output_type": "error",
     "traceback": [
      "\u001b[1;36m  Cell \u001b[1;32mIn[49], line 1\u001b[1;36m\u001b[0m\n\u001b[1;33m    if(3)\u001b[0m\n\u001b[1;37m         ^\u001b[0m\n\u001b[1;31mSyntaxError\u001b[0m\u001b[1;31m:\u001b[0m expected ':'\n"
     ]
    }
   ],
   "source": [
    "if(3)\n",
    "    print(\"sd\")\n",
    "else\n",
    "    print(\"pppp\")"
   ]
  },
  {
   "cell_type": "code",
   "execution_count": 50,
   "id": "018f8fa2",
   "metadata": {},
   "outputs": [],
   "source": [
    "t=(1,2,3,)"
   ]
  },
  {
   "cell_type": "code",
   "execution_count": 51,
   "id": "9b9db265",
   "metadata": {},
   "outputs": [
    {
     "data": {
      "text/plain": [
       "(1, 2, 3)"
      ]
     },
     "execution_count": 51,
     "metadata": {},
     "output_type": "execute_result"
    }
   ],
   "source": [
    "t"
   ]
  },
  {
   "cell_type": "code",
   "execution_count": 52,
   "id": "5c9cccc4",
   "metadata": {},
   "outputs": [
    {
     "data": {
      "text/plain": [
       "{3, 4, 5, 6, 56}"
      ]
     },
     "execution_count": 52,
     "metadata": {},
     "output_type": "execute_result"
    }
   ],
   "source": [
    "{3,4,5,56,6,6,6,6,6,6,}"
   ]
  },
  {
   "cell_type": "code",
   "execution_count": 53,
   "id": "c444232f",
   "metadata": {},
   "outputs": [
    {
     "data": {
      "text/plain": [
       "True"
      ]
     },
     "execution_count": 53,
     "metadata": {},
     "output_type": "execute_result"
    }
   ],
   "source": [
    "7>6"
   ]
  },
  {
   "cell_type": "code",
   "execution_count": 54,
   "id": "9ab2b3b0",
   "metadata": {},
   "outputs": [
    {
     "data": {
      "text/plain": [
       "False"
      ]
     },
     "execution_count": 54,
     "metadata": {},
     "output_type": "execute_result"
    }
   ],
   "source": [
    "9<5"
   ]
  },
  {
   "cell_type": "code",
   "execution_count": 58,
   "id": "013446f0",
   "metadata": {},
   "outputs": [
    {
     "name": "stdout",
     "output_type": "stream",
     "text": [
      "dead\n"
     ]
    }
   ],
   "source": [
    "if (3==6):\n",
    "    print(\"dsdsd\")\n",
    "else:\n",
    "    print(\"dead\")"
   ]
  },
  {
   "cell_type": "code",
   "execution_count": 59,
   "id": "3d2d8011",
   "metadata": {},
   "outputs": [
    {
     "data": {
      "text/plain": [
       "[range(0, 5)]"
      ]
     },
     "execution_count": 59,
     "metadata": {},
     "output_type": "execute_result"
    }
   ],
   "source": [
    "[range(5)]"
   ]
  },
  {
   "cell_type": "code",
   "execution_count": 60,
   "id": "5b584de9",
   "metadata": {},
   "outputs": [
    {
     "data": {
      "text/plain": [
       "[0, 1, 2, 3, 4]"
      ]
     },
     "execution_count": 60,
     "metadata": {},
     "output_type": "execute_result"
    }
   ],
   "source": [
    "list(range(5))"
   ]
  },
  {
   "cell_type": "code",
   "execution_count": 62,
   "id": "1490f7cd",
   "metadata": {},
   "outputs": [
    {
     "name": "stdout",
     "output_type": "stream",
     "text": [
      "2\n",
      "3\n",
      "4\n",
      "5\n"
     ]
    }
   ],
   "source": [
    "for x in range(2,6):\n",
    "    print(x)"
   ]
  },
  {
   "cell_type": "code",
   "execution_count": 63,
   "id": "3608c466",
   "metadata": {},
   "outputs": [],
   "source": [
    "out=[]"
   ]
  },
  {
   "cell_type": "code",
   "execution_count": 64,
   "id": "e54baf63",
   "metadata": {},
   "outputs": [],
   "source": [
    "def my_fun():\n",
    "    print(\"ass\")"
   ]
  },
  {
   "cell_type": "code",
   "execution_count": 65,
   "id": "ad15994b",
   "metadata": {},
   "outputs": [
    {
     "name": "stdout",
     "output_type": "stream",
     "text": [
      "ass\n"
     ]
    }
   ],
   "source": [
    "my_fun()"
   ]
  },
  {
   "cell_type": "code",
   "execution_count": null,
   "id": "fb5df34e",
   "metadata": {},
   "outputs": [],
   "source": []
  }
 ],
 "metadata": {
  "kernelspec": {
   "display_name": "Python 3 (ipykernel)",
   "language": "python",
   "name": "python3"
  },
  "language_info": {
   "codemirror_mode": {
    "name": "ipython",
    "version": 3
   },
   "file_extension": ".py",
   "mimetype": "text/x-python",
   "name": "python",
   "nbconvert_exporter": "python",
   "pygments_lexer": "ipython3",
   "version": "3.11.5"
  }
 },
 "nbformat": 4,
 "nbformat_minor": 5
}
