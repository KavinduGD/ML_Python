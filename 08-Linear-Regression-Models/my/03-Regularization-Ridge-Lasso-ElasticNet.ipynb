{
 "cells": [
  {
   "cell_type": "code",
   "execution_count": 1,
   "id": "8a86f1cc-5346-402e-80e8-cf720999be99",
   "metadata": {},
   "outputs": [],
   "source": [
    "import numpy as np\n",
    "import pandas as pd\n",
    "import matplotlib.pyplot as plt\n",
    "import seaborn as sns"
   ]
  },
  {
   "cell_type": "code",
   "execution_count": 2,
   "id": "932819c0-a5bb-46d8-9164-14fa3d6e2f6a",
   "metadata": {},
   "outputs": [],
   "source": [
    "df=pd.read_csv(\"Advertising.csv\")"
   ]
  },
  {
   "cell_type": "code",
   "execution_count": 3,
   "id": "14206fee-6dd1-42de-a49e-134ffe239727",
   "metadata": {},
   "outputs": [
    {
     "data": {
      "text/html": [
       "<div>\n",
       "<style scoped>\n",
       "    .dataframe tbody tr th:only-of-type {\n",
       "        vertical-align: middle;\n",
       "    }\n",
       "\n",
       "    .dataframe tbody tr th {\n",
       "        vertical-align: top;\n",
       "    }\n",
       "\n",
       "    .dataframe thead th {\n",
       "        text-align: right;\n",
       "    }\n",
       "</style>\n",
       "<table border=\"1\" class=\"dataframe\">\n",
       "  <thead>\n",
       "    <tr style=\"text-align: right;\">\n",
       "      <th></th>\n",
       "      <th>TV</th>\n",
       "      <th>radio</th>\n",
       "      <th>newspaper</th>\n",
       "      <th>sales</th>\n",
       "    </tr>\n",
       "  </thead>\n",
       "  <tbody>\n",
       "    <tr>\n",
       "      <th>0</th>\n",
       "      <td>230.1</td>\n",
       "      <td>37.8</td>\n",
       "      <td>69.2</td>\n",
       "      <td>22.1</td>\n",
       "    </tr>\n",
       "    <tr>\n",
       "      <th>1</th>\n",
       "      <td>44.5</td>\n",
       "      <td>39.3</td>\n",
       "      <td>45.1</td>\n",
       "      <td>10.4</td>\n",
       "    </tr>\n",
       "    <tr>\n",
       "      <th>2</th>\n",
       "      <td>17.2</td>\n",
       "      <td>45.9</td>\n",
       "      <td>69.3</td>\n",
       "      <td>9.3</td>\n",
       "    </tr>\n",
       "    <tr>\n",
       "      <th>3</th>\n",
       "      <td>151.5</td>\n",
       "      <td>41.3</td>\n",
       "      <td>58.5</td>\n",
       "      <td>18.5</td>\n",
       "    </tr>\n",
       "    <tr>\n",
       "      <th>4</th>\n",
       "      <td>180.8</td>\n",
       "      <td>10.8</td>\n",
       "      <td>58.4</td>\n",
       "      <td>12.9</td>\n",
       "    </tr>\n",
       "    <tr>\n",
       "      <th>...</th>\n",
       "      <td>...</td>\n",
       "      <td>...</td>\n",
       "      <td>...</td>\n",
       "      <td>...</td>\n",
       "    </tr>\n",
       "    <tr>\n",
       "      <th>195</th>\n",
       "      <td>38.2</td>\n",
       "      <td>3.7</td>\n",
       "      <td>13.8</td>\n",
       "      <td>7.6</td>\n",
       "    </tr>\n",
       "    <tr>\n",
       "      <th>196</th>\n",
       "      <td>94.2</td>\n",
       "      <td>4.9</td>\n",
       "      <td>8.1</td>\n",
       "      <td>9.7</td>\n",
       "    </tr>\n",
       "    <tr>\n",
       "      <th>197</th>\n",
       "      <td>177.0</td>\n",
       "      <td>9.3</td>\n",
       "      <td>6.4</td>\n",
       "      <td>12.8</td>\n",
       "    </tr>\n",
       "    <tr>\n",
       "      <th>198</th>\n",
       "      <td>283.6</td>\n",
       "      <td>42.0</td>\n",
       "      <td>66.2</td>\n",
       "      <td>25.5</td>\n",
       "    </tr>\n",
       "    <tr>\n",
       "      <th>199</th>\n",
       "      <td>232.1</td>\n",
       "      <td>8.6</td>\n",
       "      <td>8.7</td>\n",
       "      <td>13.4</td>\n",
       "    </tr>\n",
       "  </tbody>\n",
       "</table>\n",
       "<p>200 rows × 4 columns</p>\n",
       "</div>"
      ],
      "text/plain": [
       "        TV  radio  newspaper  sales\n",
       "0    230.1   37.8       69.2   22.1\n",
       "1     44.5   39.3       45.1   10.4\n",
       "2     17.2   45.9       69.3    9.3\n",
       "3    151.5   41.3       58.5   18.5\n",
       "4    180.8   10.8       58.4   12.9\n",
       "..     ...    ...        ...    ...\n",
       "195   38.2    3.7       13.8    7.6\n",
       "196   94.2    4.9        8.1    9.7\n",
       "197  177.0    9.3        6.4   12.8\n",
       "198  283.6   42.0       66.2   25.5\n",
       "199  232.1    8.6        8.7   13.4\n",
       "\n",
       "[200 rows x 4 columns]"
      ]
     },
     "execution_count": 3,
     "metadata": {},
     "output_type": "execute_result"
    }
   ],
   "source": [
    "df"
   ]
  },
  {
   "cell_type": "code",
   "execution_count": 4,
   "id": "9a2387cc-5e7b-4a77-a192-ab623749776a",
   "metadata": {},
   "outputs": [],
   "source": [
    "X = df.drop('sales',axis=1)\n",
    "y = df['sales']"
   ]
  },
  {
   "cell_type": "code",
   "execution_count": 5,
   "id": "576ef505-c56a-4be2-90cb-4ac8eb78e606",
   "metadata": {},
   "outputs": [],
   "source": [
    "from sklearn.preprocessing import PolynomialFeatures"
   ]
  },
  {
   "cell_type": "code",
   "execution_count": 6,
   "id": "d3ec8e17-2902-474f-98b9-df184d1224cd",
   "metadata": {},
   "outputs": [],
   "source": [
    "poly_convertor=PolynomialFeatures(degree=2,include_bias=False)"
   ]
  },
  {
   "cell_type": "code",
   "execution_count": 7,
   "id": "2081bdd8-7bb7-46e2-aba0-cfb1df18addc",
   "metadata": {},
   "outputs": [],
   "source": [
    "Poly_Features=poly_convertor.fit_transform(X)"
   ]
  },
  {
   "cell_type": "code",
   "execution_count": 8,
   "id": "9926ffc6-fd06-4a7e-b28b-b7c99fd3203d",
   "metadata": {},
   "outputs": [
    {
     "data": {
      "text/plain": [
       "(200, 9)"
      ]
     },
     "execution_count": 8,
     "metadata": {},
     "output_type": "execute_result"
    }
   ],
   "source": [
    "Poly_Features.shape"
   ]
  },
  {
   "cell_type": "code",
   "execution_count": 9,
   "id": "6e6b3ad6-b242-402c-80cb-51b3beaca43d",
   "metadata": {},
   "outputs": [],
   "source": [
    "from sklearn.model_selection import train_test_split"
   ]
  },
  {
   "cell_type": "code",
   "execution_count": 55,
   "id": "4c207bcb-8244-447a-86b7-93e2b197340f",
   "metadata": {},
   "outputs": [],
   "source": [
    "X_train, X_test, y_train, y_test = train_test_split(Poly_Features, y, test_size=0.3, random_state=101)"
   ]
  },
  {
   "cell_type": "code",
   "execution_count": 56,
   "id": "868232bc-cba5-4919-a91f-1ccf635028b5",
   "metadata": {},
   "outputs": [],
   "source": [
    "from sklearn.preprocessing import StandardScaler"
   ]
  },
  {
   "cell_type": "code",
   "execution_count": 57,
   "id": "eb43b8f1-977c-4e00-9234-c1fb32ec3dc2",
   "metadata": {},
   "outputs": [],
   "source": [
    "scaler=StandardScaler()"
   ]
  },
  {
   "cell_type": "code",
   "execution_count": 58,
   "id": "5b590f80-f480-43c9-ab32-05d30960738d",
   "metadata": {},
   "outputs": [
    {
     "data": {
      "text/html": [
       "<style>#sk-container-id-8 {color: black;background-color: white;}#sk-container-id-8 pre{padding: 0;}#sk-container-id-8 div.sk-toggleable {background-color: white;}#sk-container-id-8 label.sk-toggleable__label {cursor: pointer;display: block;width: 100%;margin-bottom: 0;padding: 0.3em;box-sizing: border-box;text-align: center;}#sk-container-id-8 label.sk-toggleable__label-arrow:before {content: \"▸\";float: left;margin-right: 0.25em;color: #696969;}#sk-container-id-8 label.sk-toggleable__label-arrow:hover:before {color: black;}#sk-container-id-8 div.sk-estimator:hover label.sk-toggleable__label-arrow:before {color: black;}#sk-container-id-8 div.sk-toggleable__content {max-height: 0;max-width: 0;overflow: hidden;text-align: left;background-color: #f0f8ff;}#sk-container-id-8 div.sk-toggleable__content pre {margin: 0.2em;color: black;border-radius: 0.25em;background-color: #f0f8ff;}#sk-container-id-8 input.sk-toggleable__control:checked~div.sk-toggleable__content {max-height: 200px;max-width: 100%;overflow: auto;}#sk-container-id-8 input.sk-toggleable__control:checked~label.sk-toggleable__label-arrow:before {content: \"▾\";}#sk-container-id-8 div.sk-estimator input.sk-toggleable__control:checked~label.sk-toggleable__label {background-color: #d4ebff;}#sk-container-id-8 div.sk-label input.sk-toggleable__control:checked~label.sk-toggleable__label {background-color: #d4ebff;}#sk-container-id-8 input.sk-hidden--visually {border: 0;clip: rect(1px 1px 1px 1px);clip: rect(1px, 1px, 1px, 1px);height: 1px;margin: -1px;overflow: hidden;padding: 0;position: absolute;width: 1px;}#sk-container-id-8 div.sk-estimator {font-family: monospace;background-color: #f0f8ff;border: 1px dotted black;border-radius: 0.25em;box-sizing: border-box;margin-bottom: 0.5em;}#sk-container-id-8 div.sk-estimator:hover {background-color: #d4ebff;}#sk-container-id-8 div.sk-parallel-item::after {content: \"\";width: 100%;border-bottom: 1px solid gray;flex-grow: 1;}#sk-container-id-8 div.sk-label:hover label.sk-toggleable__label {background-color: #d4ebff;}#sk-container-id-8 div.sk-serial::before {content: \"\";position: absolute;border-left: 1px solid gray;box-sizing: border-box;top: 0;bottom: 0;left: 50%;z-index: 0;}#sk-container-id-8 div.sk-serial {display: flex;flex-direction: column;align-items: center;background-color: white;padding-right: 0.2em;padding-left: 0.2em;position: relative;}#sk-container-id-8 div.sk-item {position: relative;z-index: 1;}#sk-container-id-8 div.sk-parallel {display: flex;align-items: stretch;justify-content: center;background-color: white;position: relative;}#sk-container-id-8 div.sk-item::before, #sk-container-id-8 div.sk-parallel-item::before {content: \"\";position: absolute;border-left: 1px solid gray;box-sizing: border-box;top: 0;bottom: 0;left: 50%;z-index: -1;}#sk-container-id-8 div.sk-parallel-item {display: flex;flex-direction: column;z-index: 1;position: relative;background-color: white;}#sk-container-id-8 div.sk-parallel-item:first-child::after {align-self: flex-end;width: 50%;}#sk-container-id-8 div.sk-parallel-item:last-child::after {align-self: flex-start;width: 50%;}#sk-container-id-8 div.sk-parallel-item:only-child::after {width: 0;}#sk-container-id-8 div.sk-dashed-wrapped {border: 1px dashed gray;margin: 0 0.4em 0.5em 0.4em;box-sizing: border-box;padding-bottom: 0.4em;background-color: white;}#sk-container-id-8 div.sk-label label {font-family: monospace;font-weight: bold;display: inline-block;line-height: 1.2em;}#sk-container-id-8 div.sk-label-container {text-align: center;}#sk-container-id-8 div.sk-container {/* jupyter's `normalize.less` sets `[hidden] { display: none; }` but bootstrap.min.css set `[hidden] { display: none !important; }` so we also need the `!important` here to be able to override the default hidden behavior on the sphinx rendered scikit-learn.org. See: https://github.com/scikit-learn/scikit-learn/issues/21755 */display: inline-block !important;position: relative;}#sk-container-id-8 div.sk-text-repr-fallback {display: none;}</style><div id=\"sk-container-id-8\" class=\"sk-top-container\"><div class=\"sk-text-repr-fallback\"><pre>StandardScaler()</pre><b>In a Jupyter environment, please rerun this cell to show the HTML representation or trust the notebook. <br />On GitHub, the HTML representation is unable to render, please try loading this page with nbviewer.org.</b></div><div class=\"sk-container\" hidden><div class=\"sk-item\"><div class=\"sk-estimator sk-toggleable\"><input class=\"sk-toggleable__control sk-hidden--visually\" id=\"sk-estimator-id-8\" type=\"checkbox\" checked><label for=\"sk-estimator-id-8\" class=\"sk-toggleable__label sk-toggleable__label-arrow\">StandardScaler</label><div class=\"sk-toggleable__content\"><pre>StandardScaler()</pre></div></div></div></div></div>"
      ],
      "text/plain": [
       "StandardScaler()"
      ]
     },
     "execution_count": 58,
     "metadata": {},
     "output_type": "execute_result"
    }
   ],
   "source": [
    "scaler.fit(X_train)"
   ]
  },
  {
   "cell_type": "code",
   "execution_count": 59,
   "id": "ebc7a5f3-08eb-4eb6-92f2-6c5bb955e576",
   "metadata": {},
   "outputs": [],
   "source": [
    "X_train=scaler.transform(X_train)"
   ]
  },
  {
   "cell_type": "code",
   "execution_count": 60,
   "id": "4e6094f6-0bca-4ed3-a12a-f1bc80f98e37",
   "metadata": {},
   "outputs": [],
   "source": [
    "X_test=scaler.transform(X_test)"
   ]
  },
  {
   "cell_type": "code",
   "execution_count": 61,
   "id": "046190e7-0ee7-400b-97e1-1aaa599fa136",
   "metadata": {},
   "outputs": [
    {
     "data": {
      "text/plain": [
       "array([[ 0.49300171, -0.33994238,  1.61586707, ..., -0.59023161,\n",
       "         0.41659155,  1.6137853 ],\n",
       "       [ 1.61337153,  1.32852213,  1.90079242, ...,  1.4978238 ,\n",
       "         2.46478013,  2.08205295],\n",
       "       [-0.84811893, -1.58789957, -1.02319564, ..., -1.05826214,\n",
       "        -0.90147492, -0.74882387],\n",
       "       ...,\n",
       "       [ 1.04606563, -1.30982215,  0.27064572, ..., -1.03502374,\n",
       "        -0.73652035, -0.03590138],\n",
       "       [ 0.74817069,  0.03987068, -1.26608283, ..., -0.26199091,\n",
       "        -0.79680416, -0.78714505],\n",
       "       [ 0.13813882,  0.55533126,  1.01799092, ...,  0.32216251,\n",
       "         0.92114819,  0.76625296]])"
      ]
     },
     "execution_count": 61,
     "metadata": {},
     "output_type": "execute_result"
    }
   ],
   "source": [
    "X_train"
   ]
  },
  {
   "cell_type": "code",
   "execution_count": 62,
   "id": "2e8010d9-e61d-4779-af33-bf3a9c2f2b65",
   "metadata": {},
   "outputs": [
    {
     "data": {
      "text/plain": [
       "array([[-9.13394717e-01,  1.76259419e+00,  6.81685579e-01,\n",
       "        -9.63975055e-01,  1.52122095e-02, -2.93048209e-01,\n",
       "         2.31532893e+00,  1.56001049e+00,  3.69910106e-01],\n",
       "       [ 1.23121149e+00,  2.36559587e-01, -1.19601922e+00,\n",
       "         1.38103193e+00,  9.76521639e-01, -6.80562258e-01,\n",
       "        -5.79325829e-02, -7.40162021e-01, -7.79189389e-01],\n",
       "       [-4.60024728e-01, -4.07766136e-01,  3.50051150e-01,\n",
       "        -6.82242743e-01, -5.06457342e-01, -1.10940195e-01,\n",
       "        -6.39722074e-01, -1.69172158e-01,  3.57554301e-02],\n",
       "       [-4.96816533e-01,  1.65407618e+00,  9.47927303e-01,\n",
       "        -7.09383526e-01,  4.86260118e-01,  1.37061544e-01,\n",
       "         2.10033570e+00,  1.77735495e+00,  6.78908133e-01],\n",
       "       [-1.42610633e+00,  8.05649381e-02, -1.35015916e+00,\n",
       "        -1.14433859e+00, -8.66050574e-01, -9.38134722e-01,\n",
       "        -2.21679679e-01, -8.42466779e-01, -7.93375596e-01],\n",
       "       [-1.56971305e+00, -5.02719400e-01, -4.11306765e-01,\n",
       "        -1.16855131e+00, -1.00646472e+00, -8.68057421e-01,\n",
       "        -7.04363815e-01, -5.12448616e-01, -5.18444564e-01],\n",
       "       [ 1.31785025e+00,  3.65424731e-01, -7.10244842e-01,\n",
       "         1.52972027e+00,  1.18676500e+00, -1.45853473e-01,\n",
       "         8.83684313e-02, -4.02195423e-01, -6.54935860e-01],\n",
       "       [ 7.32741866e-01,  8.05649381e-02, -8.41030250e-01,\n",
       "         6.06967058e-01,  4.86622867e-01, -4.12296506e-01,\n",
       "        -2.21679679e-01, -5.50108281e-01, -7.00269193e-01],\n",
       "       [-1.34832642e-01, -1.45903442e+00, -1.03253746e+00,\n",
       "        -4.09499043e-01, -1.01971414e+00, -7.07951273e-01,\n",
       "        -1.05327162e+00, -8.82830439e-01, -7.50856056e-01],\n",
       "       [ 8.17006969e-01,  6.63849277e-01,  3.17354798e-01,\n",
       "         7.28079417e-01,  1.11265535e+00,  6.60390387e-01,\n",
       "         4.65491333e-01,  4.70453371e-01,  5.85887866e-03],\n",
       "       [-1.34896222e+00,  1.14539797e+00, -8.97081140e-01,\n",
       "        -1.12657876e+00, -6.37367465e-01, -8.64280823e-01,\n",
       "         1.18690477e+00, -3.78589987e-01, -7.17017961e-01],\n",
       "       [ 2.85306039e-01, -5.43413657e-01, -1.34081735e+00,\n",
       "         3.02762307e-02, -2.82363009e-01, -8.70167533e-01,\n",
       "        -7.30408519e-01, -8.61176676e-01, -7.92861967e-01],\n",
       "       [ 8.39556785e-01, -1.35729878e+00, -8.41030250e-01,\n",
       "         7.61162025e-01, -8.71715507e-01, -3.89555909e-01,\n",
       "        -1.04228142e+00, -8.52912048e-01, -7.00269193e-01],\n",
       "       [ 5.60651163e-01,  1.76259419e+00,  1.34962534e+00,\n",
       "         3.71937870e-01,  1.86991234e+00,  1.35033316e+00,\n",
       "         2.31532893e+00,  2.33023459e+00,  1.21377447e+00],\n",
       "       [ 4.98935877e-01,  8.13061549e-01,  2.07828691e+00,\n",
       "         2.91678804e-01,  9.72507215e-01,  1.87298499e+00,\n",
       "         6.74125454e-01,  2.01648401e+00,  2.39476362e+00],\n",
       "       [-1.26944445e+00,  1.61953450e-01, -4.90712191e-01,\n",
       "        -1.10479561e+00, -7.51675767e-01, -7.73893218e-01,\n",
       "        -1.38071200e-01, -3.21991458e-01, -5.59160820e-01],\n",
       "       [ 1.32022392e+00, -1.35051640e+00, -5.42092173e-01,\n",
       "         1.53385289e+00, -8.22142813e-01,  3.73095965e-02,\n",
       "        -1.04132755e+00, -8.27060553e-01, -5.83787092e-01],\n",
       "       [-6.64159906e-01, -1.49294630e+00, -1.10727197e+00,\n",
       "        -8.23296031e-01, -1.05979490e+00, -8.14907303e-01,\n",
       "        -1.05555260e+00, -8.90179198e-01, -7.65505645e-01],\n",
       "       [-1.20654233e+00, -8.01143946e-01, -5.93472155e-01,\n",
       "        -1.08506383e+00, -9.24967082e-01, -7.74051380e-01,\n",
       "        -8.72244332e-01, -6.68756941e-01, -6.07062297e-01],\n",
       "       [ 9.06019401e-01,  9.69056198e-01,  4.17712581e-02,\n",
       "         8.60319823e-01,  1.49807632e+00,  4.55753944e-01,\n",
       "         9.06550943e-01,  4.13887551e-01, -2.24386439e-01],\n",
       "       [-1.56733939e+00, -2.24641983e-01, -6.58864860e-01,\n",
       "        -1.16824466e+00, -9.81205292e-01, -8.87233589e-01,\n",
       "        -4.99752522e-01, -5.28912454e-01, -6.34731262e-01],\n",
       "       [ 2.33085412e-01,  1.10470372e+00,  3.08012983e-01,\n",
       "        -2.97474488e-02,  9.55467074e-01,  2.94122112e-01,\n",
       "         1.12054884e+00,  7.30396645e-01, -2.58250056e-03],\n",
       "       [ 1.48638046e+00,  1.72868231e+00,  4.99520188e-01,\n",
       "         1.83095202e+00,  2.99284767e+00,  1.28097723e+00,\n",
       "         2.24738322e+00,  1.32716168e+00,  1.79392867e-01],\n",
       "       [ 1.30123460e+00,  1.30817500e+00,  1.10206725e+00,\n",
       "         1.50087997e+00,  2.27251855e+00,  1.80535920e+00,\n",
       "         1.46228191e+00,  1.64517542e+00,  8.74383008e-01],\n",
       "       [-9.81044165e-01, -9.57138594e-01, -1.41088096e+00,\n",
       "        -9.96176257e-01, -9.06315730e-01, -9.39523461e-01,\n",
       "        -9.38697037e-01, -8.92348935e-01, -7.95625514e-01],\n",
       "       [ 5.71332655e-01, -1.37764591e+00,  1.63214852e-01,\n",
       "         3.86044693e-01, -9.13062864e-01,  3.81896188e-01,\n",
       "        -1.04497713e+00, -7.84527156e-01, -1.27712549e-01],\n",
       "       [ 1.68458148e+00,  2.90818595e-01, -1.36884279e+00,\n",
       "         2.20550442e+00,  1.35815188e+00, -8.49567908e-01,\n",
       "         2.45131861e-03, -8.47111544e-01, -7.94268863e-01],\n",
       "       [-1.09260641e+00, -7.74014442e-01,  5.60241985e-01,\n",
       "        -1.04369985e+00, -8.84097344e-01, -4.56037919e-01,\n",
       "        -8.59194331e-01, -3.37561233e-01,  2.41011586e-01],\n",
       "       [ 1.65435964e-01, -9.09661962e-01, -6.30839415e-01,\n",
       "        -1.05242125e-01, -5.99702011e-01, -3.89339883e-01,\n",
       "        -9.20020606e-01, -7.09578535e-01, -6.23141115e-01],\n",
       "       [-1.59582336e+00,  1.52521103e+00,  1.78401974e+00,\n",
       "        -1.17171682e+00, -8.61643172e-01, -7.21595631e-01,\n",
       "         1.85422430e+00,  2.56669237e+00,  1.88511535e+00],\n",
       "       [-1.51749242e+00,  7.92714421e-01,  1.62520888e+00,\n",
       "        -1.16107862e+00, -8.47768017e-01, -6.48983882e-01,\n",
       "         6.44887370e-01,  1.62053418e+00,  1.62847955e+00],\n",
       "       [ 8.08699142e-01,  6.84196405e-01,  6.53660134e-01,\n",
       "         7.15962638e-01,  1.12556317e+00,  9.60518050e-01,\n",
       "         4.93153464e-01,  7.45835581e-01,  3.39494343e-01],\n",
       "       [-2.06042588e-01, -1.25556314e+00, -1.01852473e+00,\n",
       "        -4.74271780e-01, -9.01367227e-01, -7.10595663e-01,\n",
       "        -1.02507035e+00, -8.51789018e-01, -7.47791031e-01],\n",
       "       [-1.64329666e+00, -5.09501776e-01,  8.63850969e-01,\n",
       "        -1.17649733e+00, -1.03685101e+00, -8.25218688e-01,\n",
       "        -7.08773720e-01, -4.16046775e-02,  5.77410597e-01],\n",
       "       [ 3.00734861e-01,  6.77414029e-01,  3.54722057e-01,\n",
       "         4.83018118e-02,  6.86787847e-01,  3.69710005e-01,\n",
       "         4.83905105e-01,  5.07851359e-01,  4.00710294e-02],\n",
       "       [-6.46357420e-01, -1.48616392e+00, -5.16468910e-02,\n",
       "        -8.11920702e-01, -1.05622182e+00, -3.89062135e-01,\n",
       "        -1.05515170e+00, -8.52410501e-01, -2.93614681e-01],\n",
       "       [-7.65040663e-01, -7.87579194e-01, -2.43154096e-01,\n",
       "        -8.84414588e-01, -7.89250534e-01, -5.15884845e-01,\n",
       "        -8.65774628e-01, -5.68251212e-01, -4.21569688e-01],\n",
       "       [-6.81962393e-01, -1.25556314e+00, -1.07457562e+00,\n",
       "        -8.34494449e-01, -9.60764377e-01, -8.04329743e-01,\n",
       "        -1.02507035e+00, -8.58200102e-01, -7.59448174e-01],\n",
       "       [-1.66109915e+00,  9.14797190e-01,  6.58331042e-01,\n",
       "        -1.17796568e+00, -9.69787762e-01, -8.49498471e-01,\n",
       "         8.24048397e-01,  9.17048585e-01,  3.44535722e-01],\n",
       "       [ 5.86210447e-02, -1.41155779e+00, -1.06523381e+00,\n",
       "        -2.19243085e-01, -9.77215051e-01, -7.00799268e-01,\n",
       "        -1.04891701e+00, -8.77945803e-01, -7.57616975e-01],\n",
       "       [-9.95286155e-01,  8.94450062e-01,  3.87191537e+00,\n",
       "        -1.00262994e+00, -3.50166871e-01,  5.39309726e-01,\n",
       "         7.93566139e-01,  3.64777770e+00,  6.45948870e+00],\n",
       "       [-1.44327301e-01, -1.44546967e+00, -2.10457744e-01,\n",
       "        -4.18298952e-01, -1.01173970e+00, -2.35780094e-01,\n",
       "        -1.05216569e+00, -8.40569622e-01, -4.01052447e-01],\n",
       "       [-6.58225744e-01, -5.84107913e-01,  3.64063872e-01,\n",
       "        -8.19523911e-01, -6.69906063e-01, -2.29708220e-01,\n",
       "        -7.55457885e-01, -2.73755686e-01,  4.87357255e-02],\n",
       "       [-1.57683405e+00, -1.16123967e-01,  9.01218229e-01,\n",
       "        -1.16945237e+00, -9.76973218e-01, -7.68743312e-01,\n",
       "        -4.07296585e-01,  2.90986641e-01,  6.22073979e-01],\n",
       "       [-8.93218565e-01,  2.22994835e-01, -4.11306765e-01,\n",
       "        -9.53876625e-01, -4.83658558e-01, -6.22887166e-01,\n",
       "        -7.27520753e-02, -2.52287278e-01, -5.18444564e-01],\n",
       "       [-9.78670500e-01, -1.97512479e-01, -5.98143063e-01,\n",
       "        -9.95089635e-01, -6.71465885e-01, -7.07245330e-01,\n",
       "        -4.77302097e-01, -4.92441238e-01, -6.09111230e-01],\n",
       "       [-1.73586959e+00,  4.40030868e-01, -1.01385383e+00,\n",
       "        -1.18220092e+00, -1.05148794e+00, -9.41710724e-01,\n",
       "         1.77630989e-01, -5.95029480e-01, -7.46747025e-01],\n",
       "       [ 8.96524741e-01, -5.16284152e-01,  8.77863692e-01,\n",
       "         8.46003460e-01, -1.51438485e-02,  1.23523758e+00,\n",
       "        -7.13155976e-01, -4.18445479e-02,  5.94075621e-01],\n",
       "       [ 3.45834493e-01, -8.55402954e-01,  1.27489083e+00,\n",
       "         1.01753865e-01, -5.10030422e-01,  1.08506863e+00,\n",
       "        -8.97017215e-01, -2.13788067e-01,  1.10801158e+00],\n",
       "       [ 5.19112028e-01,  1.64729380e+00,  1.01799092e+00,\n",
       "         3.17683431e-01,  1.71723122e+00,  1.04223761e+00,\n",
       "         2.08713363e+00,  1.84976313e+00,  7.66252959e-01],\n",
       "       [-1.27181811e+00,  1.07757421e+00,  6.53660134e-01,\n",
       "        -1.10549696e+00, -5.71634296e-01, -5.64400047e-01,\n",
       "         1.07686451e+00,  1.03104158e+00,  3.39494343e-01],\n",
       "       [ 6.55597758e-01, -1.01817998e+00, -2.19799559e-01,\n",
       "         4.99564850e-01, -5.74926244e-01,  1.02042182e-01,\n",
       "        -9.60718913e-01, -6.59685476e-01, -4.06970345e-01],\n",
       "       [ 1.52554593e+00, -9.02879586e-01, -4.53344932e-01,\n",
       "         1.90322693e+00, -2.44806381e-01,  2.05063452e-01,\n",
       "        -9.17241951e-01, -6.65813077e-01, -5.40402199e-01],\n",
       "       [-4.08990933e-01, -5.90890289e-01, -1.20069012e+00,\n",
       "        -6.43344898e-01, -5.79496884e-01, -8.29431196e-01,\n",
       "        -7.59536010e-01, -8.14925287e-01, -7.79797928e-01],\n",
       "       [ 5.71332655e-01, -1.41155779e+00, -4.62686747e-01,\n",
       "         3.86044693e-01, -9.43261731e-01, -1.34506320e-01,\n",
       "        -1.04891701e+00, -8.41376459e-01, -5.45158850e-01],\n",
       "       [-1.75129841e+00, -8.01143946e-01, -1.18667740e+00,\n",
       "        -1.18268644e+00, -1.08591888e+00, -9.46993718e-01,\n",
       "        -8.72244332e-01, -8.29382935e-01, -7.77938814e-01],\n",
       "       [ 1.36769722e+00,  1.38278114e+00, -1.21937375e+00,\n",
       "         1.61716582e+00,  2.43355196e+00, -6.94102461e-01,\n",
       "         1.59381872e+00, -6.62694760e-01, -7.82120423e-01],\n",
       "       [-1.33115973e+00,  1.19965698e+00, -1.18200649e+00,\n",
       "        -1.12200858e+00, -6.09541582e-01, -9.07312437e-01,\n",
       "         1.27692766e+00, -6.41564352e-01, -7.77296778e-01],\n",
       "       [ 1.35226840e+00, -2.31424359e-01, -1.43890640e+00,\n",
       "         1.58995113e+00,  5.05473731e-01, -9.36132624e-01,\n",
       "        -5.05296007e-01, -8.94932994e-01, -7.96027484e-01],\n",
       "       [ 2.78185045e-01, -6.18649585e-02,  1.84167208e-02,\n",
       "         2.20015490e-02,  9.06549638e-02,  1.12359354e-01,\n",
       "        -3.58414379e-01, -1.28710370e-01, -2.42112219e-01]])"
      ]
     },
     "execution_count": 62,
     "metadata": {},
     "output_type": "execute_result"
    }
   ],
   "source": [
    "X_test"
   ]
  },
  {
   "cell_type": "code",
   "execution_count": 63,
   "id": "7ac0c5fb-a209-4b1f-b92f-a380161a16cd",
   "metadata": {},
   "outputs": [],
   "source": [
    "from sklearn.linear_model import Ridge"
   ]
  },
  {
   "cell_type": "code",
   "execution_count": 64,
   "id": "500273f0-75cf-44ad-a42d-f255738ae1d0",
   "metadata": {},
   "outputs": [],
   "source": [
    "ridge_model=Ridge(alpha=100)"
   ]
  },
  {
   "cell_type": "code",
   "execution_count": 65,
   "id": "7a24ae5f-8812-417c-8895-f41894f7c85a",
   "metadata": {},
   "outputs": [
    {
     "data": {
      "text/html": [
       "<style>#sk-container-id-9 {color: black;background-color: white;}#sk-container-id-9 pre{padding: 0;}#sk-container-id-9 div.sk-toggleable {background-color: white;}#sk-container-id-9 label.sk-toggleable__label {cursor: pointer;display: block;width: 100%;margin-bottom: 0;padding: 0.3em;box-sizing: border-box;text-align: center;}#sk-container-id-9 label.sk-toggleable__label-arrow:before {content: \"▸\";float: left;margin-right: 0.25em;color: #696969;}#sk-container-id-9 label.sk-toggleable__label-arrow:hover:before {color: black;}#sk-container-id-9 div.sk-estimator:hover label.sk-toggleable__label-arrow:before {color: black;}#sk-container-id-9 div.sk-toggleable__content {max-height: 0;max-width: 0;overflow: hidden;text-align: left;background-color: #f0f8ff;}#sk-container-id-9 div.sk-toggleable__content pre {margin: 0.2em;color: black;border-radius: 0.25em;background-color: #f0f8ff;}#sk-container-id-9 input.sk-toggleable__control:checked~div.sk-toggleable__content {max-height: 200px;max-width: 100%;overflow: auto;}#sk-container-id-9 input.sk-toggleable__control:checked~label.sk-toggleable__label-arrow:before {content: \"▾\";}#sk-container-id-9 div.sk-estimator input.sk-toggleable__control:checked~label.sk-toggleable__label {background-color: #d4ebff;}#sk-container-id-9 div.sk-label input.sk-toggleable__control:checked~label.sk-toggleable__label {background-color: #d4ebff;}#sk-container-id-9 input.sk-hidden--visually {border: 0;clip: rect(1px 1px 1px 1px);clip: rect(1px, 1px, 1px, 1px);height: 1px;margin: -1px;overflow: hidden;padding: 0;position: absolute;width: 1px;}#sk-container-id-9 div.sk-estimator {font-family: monospace;background-color: #f0f8ff;border: 1px dotted black;border-radius: 0.25em;box-sizing: border-box;margin-bottom: 0.5em;}#sk-container-id-9 div.sk-estimator:hover {background-color: #d4ebff;}#sk-container-id-9 div.sk-parallel-item::after {content: \"\";width: 100%;border-bottom: 1px solid gray;flex-grow: 1;}#sk-container-id-9 div.sk-label:hover label.sk-toggleable__label {background-color: #d4ebff;}#sk-container-id-9 div.sk-serial::before {content: \"\";position: absolute;border-left: 1px solid gray;box-sizing: border-box;top: 0;bottom: 0;left: 50%;z-index: 0;}#sk-container-id-9 div.sk-serial {display: flex;flex-direction: column;align-items: center;background-color: white;padding-right: 0.2em;padding-left: 0.2em;position: relative;}#sk-container-id-9 div.sk-item {position: relative;z-index: 1;}#sk-container-id-9 div.sk-parallel {display: flex;align-items: stretch;justify-content: center;background-color: white;position: relative;}#sk-container-id-9 div.sk-item::before, #sk-container-id-9 div.sk-parallel-item::before {content: \"\";position: absolute;border-left: 1px solid gray;box-sizing: border-box;top: 0;bottom: 0;left: 50%;z-index: -1;}#sk-container-id-9 div.sk-parallel-item {display: flex;flex-direction: column;z-index: 1;position: relative;background-color: white;}#sk-container-id-9 div.sk-parallel-item:first-child::after {align-self: flex-end;width: 50%;}#sk-container-id-9 div.sk-parallel-item:last-child::after {align-self: flex-start;width: 50%;}#sk-container-id-9 div.sk-parallel-item:only-child::after {width: 0;}#sk-container-id-9 div.sk-dashed-wrapped {border: 1px dashed gray;margin: 0 0.4em 0.5em 0.4em;box-sizing: border-box;padding-bottom: 0.4em;background-color: white;}#sk-container-id-9 div.sk-label label {font-family: monospace;font-weight: bold;display: inline-block;line-height: 1.2em;}#sk-container-id-9 div.sk-label-container {text-align: center;}#sk-container-id-9 div.sk-container {/* jupyter's `normalize.less` sets `[hidden] { display: none; }` but bootstrap.min.css set `[hidden] { display: none !important; }` so we also need the `!important` here to be able to override the default hidden behavior on the sphinx rendered scikit-learn.org. See: https://github.com/scikit-learn/scikit-learn/issues/21755 */display: inline-block !important;position: relative;}#sk-container-id-9 div.sk-text-repr-fallback {display: none;}</style><div id=\"sk-container-id-9\" class=\"sk-top-container\"><div class=\"sk-text-repr-fallback\"><pre>Ridge(alpha=100)</pre><b>In a Jupyter environment, please rerun this cell to show the HTML representation or trust the notebook. <br />On GitHub, the HTML representation is unable to render, please try loading this page with nbviewer.org.</b></div><div class=\"sk-container\" hidden><div class=\"sk-item\"><div class=\"sk-estimator sk-toggleable\"><input class=\"sk-toggleable__control sk-hidden--visually\" id=\"sk-estimator-id-9\" type=\"checkbox\" checked><label for=\"sk-estimator-id-9\" class=\"sk-toggleable__label sk-toggleable__label-arrow\">Ridge</label><div class=\"sk-toggleable__content\"><pre>Ridge(alpha=100)</pre></div></div></div></div></div>"
      ],
      "text/plain": [
       "Ridge(alpha=100)"
      ]
     },
     "execution_count": 65,
     "metadata": {},
     "output_type": "execute_result"
    }
   ],
   "source": [
    "ridge_model.fit(X_train,y_train)"
   ]
  },
  {
   "cell_type": "code",
   "execution_count": 66,
   "id": "f7514479-60af-4cfe-bb82-81af46fa3d87",
   "metadata": {},
   "outputs": [],
   "source": [
    "y_predcit=ridge_model.predict(X_test)"
   ]
  },
  {
   "cell_type": "code",
   "execution_count": 67,
   "id": "2b55e81c-5c4c-45b1-9773-dbab3d9476d7",
   "metadata": {},
   "outputs": [],
   "source": [
    "from sklearn.metrics import mean_absolute_error,mean_squared_error"
   ]
  },
  {
   "cell_type": "code",
   "execution_count": 68,
   "id": "3e65ba3e-ef4c-4a58-aefe-1f11d885aa8a",
   "metadata": {},
   "outputs": [
    {
     "data": {
      "text/plain": [
       "1.2126062182140163"
      ]
     },
     "execution_count": 68,
     "metadata": {},
     "output_type": "execute_result"
    }
   ],
   "source": [
    "mean_absolute_error(y_test,y_predcit)"
   ]
  },
  {
   "cell_type": "code",
   "execution_count": 69,
   "id": "322f4c2f-f07c-4f0c-a61a-dbbf40ee6af6",
   "metadata": {},
   "outputs": [],
   "source": [
    "from sklearn.linear_model import RidgeCV"
   ]
  },
  {
   "cell_type": "code",
   "execution_count": 70,
   "id": "c30f2b17-4118-412c-a269-706cfbe04577",
   "metadata": {},
   "outputs": [],
   "source": [
    "ridge_cv_model=RidgeCV(alphas=(0.1,0.5,0.7, 1.0, 10.0),scoring=\"neg_mean_absolute_error\")"
   ]
  },
  {
   "cell_type": "code",
   "execution_count": 71,
   "id": "97f3b234-cf2b-4150-96ce-8505d743dffb",
   "metadata": {},
   "outputs": [
    {
     "data": {
      "text/html": [
       "<style>#sk-container-id-10 {color: black;background-color: white;}#sk-container-id-10 pre{padding: 0;}#sk-container-id-10 div.sk-toggleable {background-color: white;}#sk-container-id-10 label.sk-toggleable__label {cursor: pointer;display: block;width: 100%;margin-bottom: 0;padding: 0.3em;box-sizing: border-box;text-align: center;}#sk-container-id-10 label.sk-toggleable__label-arrow:before {content: \"▸\";float: left;margin-right: 0.25em;color: #696969;}#sk-container-id-10 label.sk-toggleable__label-arrow:hover:before {color: black;}#sk-container-id-10 div.sk-estimator:hover label.sk-toggleable__label-arrow:before {color: black;}#sk-container-id-10 div.sk-toggleable__content {max-height: 0;max-width: 0;overflow: hidden;text-align: left;background-color: #f0f8ff;}#sk-container-id-10 div.sk-toggleable__content pre {margin: 0.2em;color: black;border-radius: 0.25em;background-color: #f0f8ff;}#sk-container-id-10 input.sk-toggleable__control:checked~div.sk-toggleable__content {max-height: 200px;max-width: 100%;overflow: auto;}#sk-container-id-10 input.sk-toggleable__control:checked~label.sk-toggleable__label-arrow:before {content: \"▾\";}#sk-container-id-10 div.sk-estimator input.sk-toggleable__control:checked~label.sk-toggleable__label {background-color: #d4ebff;}#sk-container-id-10 div.sk-label input.sk-toggleable__control:checked~label.sk-toggleable__label {background-color: #d4ebff;}#sk-container-id-10 input.sk-hidden--visually {border: 0;clip: rect(1px 1px 1px 1px);clip: rect(1px, 1px, 1px, 1px);height: 1px;margin: -1px;overflow: hidden;padding: 0;position: absolute;width: 1px;}#sk-container-id-10 div.sk-estimator {font-family: monospace;background-color: #f0f8ff;border: 1px dotted black;border-radius: 0.25em;box-sizing: border-box;margin-bottom: 0.5em;}#sk-container-id-10 div.sk-estimator:hover {background-color: #d4ebff;}#sk-container-id-10 div.sk-parallel-item::after {content: \"\";width: 100%;border-bottom: 1px solid gray;flex-grow: 1;}#sk-container-id-10 div.sk-label:hover label.sk-toggleable__label {background-color: #d4ebff;}#sk-container-id-10 div.sk-serial::before {content: \"\";position: absolute;border-left: 1px solid gray;box-sizing: border-box;top: 0;bottom: 0;left: 50%;z-index: 0;}#sk-container-id-10 div.sk-serial {display: flex;flex-direction: column;align-items: center;background-color: white;padding-right: 0.2em;padding-left: 0.2em;position: relative;}#sk-container-id-10 div.sk-item {position: relative;z-index: 1;}#sk-container-id-10 div.sk-parallel {display: flex;align-items: stretch;justify-content: center;background-color: white;position: relative;}#sk-container-id-10 div.sk-item::before, #sk-container-id-10 div.sk-parallel-item::before {content: \"\";position: absolute;border-left: 1px solid gray;box-sizing: border-box;top: 0;bottom: 0;left: 50%;z-index: -1;}#sk-container-id-10 div.sk-parallel-item {display: flex;flex-direction: column;z-index: 1;position: relative;background-color: white;}#sk-container-id-10 div.sk-parallel-item:first-child::after {align-self: flex-end;width: 50%;}#sk-container-id-10 div.sk-parallel-item:last-child::after {align-self: flex-start;width: 50%;}#sk-container-id-10 div.sk-parallel-item:only-child::after {width: 0;}#sk-container-id-10 div.sk-dashed-wrapped {border: 1px dashed gray;margin: 0 0.4em 0.5em 0.4em;box-sizing: border-box;padding-bottom: 0.4em;background-color: white;}#sk-container-id-10 div.sk-label label {font-family: monospace;font-weight: bold;display: inline-block;line-height: 1.2em;}#sk-container-id-10 div.sk-label-container {text-align: center;}#sk-container-id-10 div.sk-container {/* jupyter's `normalize.less` sets `[hidden] { display: none; }` but bootstrap.min.css set `[hidden] { display: none !important; }` so we also need the `!important` here to be able to override the default hidden behavior on the sphinx rendered scikit-learn.org. See: https://github.com/scikit-learn/scikit-learn/issues/21755 */display: inline-block !important;position: relative;}#sk-container-id-10 div.sk-text-repr-fallback {display: none;}</style><div id=\"sk-container-id-10\" class=\"sk-top-container\"><div class=\"sk-text-repr-fallback\"><pre>RidgeCV(alphas=(0.1, 0.5, 0.7, 1.0, 10.0), scoring=&#x27;neg_mean_absolute_error&#x27;)</pre><b>In a Jupyter environment, please rerun this cell to show the HTML representation or trust the notebook. <br />On GitHub, the HTML representation is unable to render, please try loading this page with nbviewer.org.</b></div><div class=\"sk-container\" hidden><div class=\"sk-item\"><div class=\"sk-estimator sk-toggleable\"><input class=\"sk-toggleable__control sk-hidden--visually\" id=\"sk-estimator-id-10\" type=\"checkbox\" checked><label for=\"sk-estimator-id-10\" class=\"sk-toggleable__label sk-toggleable__label-arrow\">RidgeCV</label><div class=\"sk-toggleable__content\"><pre>RidgeCV(alphas=(0.1, 0.5, 0.7, 1.0, 10.0), scoring=&#x27;neg_mean_absolute_error&#x27;)</pre></div></div></div></div></div>"
      ],
      "text/plain": [
       "RidgeCV(alphas=(0.1, 0.5, 0.7, 1.0, 10.0), scoring='neg_mean_absolute_error')"
      ]
     },
     "execution_count": 71,
     "metadata": {},
     "output_type": "execute_result"
    }
   ],
   "source": [
    "ridge_cv_model.fit(X_train,y_train)"
   ]
  },
  {
   "cell_type": "code",
   "execution_count": 72,
   "id": "463436f9-fafc-4dfd-9c50-fc1b40ccf4cc",
   "metadata": {},
   "outputs": [],
   "source": [
    "y_ridge_cv_predict=ridge_cv_model.predict(X_test)"
   ]
  },
  {
   "cell_type": "code",
   "execution_count": 73,
   "id": "e3745ae4-3e0d-4b2f-b073-db9570823120",
   "metadata": {},
   "outputs": [
    {
     "data": {
      "text/plain": [
       "1.0"
      ]
     },
     "execution_count": 73,
     "metadata": {},
     "output_type": "execute_result"
    }
   ],
   "source": [
    "ridge_cv_model.alpha_"
   ]
  },
  {
   "cell_type": "code",
   "execution_count": 74,
   "id": "a4450ed4-4c93-4569-a874-463888214962",
   "metadata": {},
   "outputs": [
    {
     "data": {
      "text/plain": [
       "0.47968472675005214"
      ]
     },
     "execution_count": 74,
     "metadata": {},
     "output_type": "execute_result"
    }
   ],
   "source": [
    "mean_absolute_error(y_test,y_ridge_cv_predict)"
   ]
  },
  {
   "cell_type": "code",
   "execution_count": 76,
   "id": "7f1e596f-7fd6-4b0e-9e05-2ac314149180",
   "metadata": {},
   "outputs": [],
   "source": [
    "from sklearn.linear_model import LassoCV"
   ]
  },
  {
   "cell_type": "code",
   "execution_count": 93,
   "id": "8105ec77-962c-4b4a-8408-b188762afaac",
   "metadata": {},
   "outputs": [],
   "source": [
    "lasso_cv_model=LassoCV(eps=0.1,n_alphas=100,cv=5)"
   ]
  },
  {
   "cell_type": "code",
   "execution_count": 94,
   "id": "ccbc7454-f9b6-4a17-8f15-e518ae4a54fa",
   "metadata": {},
   "outputs": [
    {
     "data": {
      "text/html": [
       "<style>#sk-container-id-13 {color: black;background-color: white;}#sk-container-id-13 pre{padding: 0;}#sk-container-id-13 div.sk-toggleable {background-color: white;}#sk-container-id-13 label.sk-toggleable__label {cursor: pointer;display: block;width: 100%;margin-bottom: 0;padding: 0.3em;box-sizing: border-box;text-align: center;}#sk-container-id-13 label.sk-toggleable__label-arrow:before {content: \"▸\";float: left;margin-right: 0.25em;color: #696969;}#sk-container-id-13 label.sk-toggleable__label-arrow:hover:before {color: black;}#sk-container-id-13 div.sk-estimator:hover label.sk-toggleable__label-arrow:before {color: black;}#sk-container-id-13 div.sk-toggleable__content {max-height: 0;max-width: 0;overflow: hidden;text-align: left;background-color: #f0f8ff;}#sk-container-id-13 div.sk-toggleable__content pre {margin: 0.2em;color: black;border-radius: 0.25em;background-color: #f0f8ff;}#sk-container-id-13 input.sk-toggleable__control:checked~div.sk-toggleable__content {max-height: 200px;max-width: 100%;overflow: auto;}#sk-container-id-13 input.sk-toggleable__control:checked~label.sk-toggleable__label-arrow:before {content: \"▾\";}#sk-container-id-13 div.sk-estimator input.sk-toggleable__control:checked~label.sk-toggleable__label {background-color: #d4ebff;}#sk-container-id-13 div.sk-label input.sk-toggleable__control:checked~label.sk-toggleable__label {background-color: #d4ebff;}#sk-container-id-13 input.sk-hidden--visually {border: 0;clip: rect(1px 1px 1px 1px);clip: rect(1px, 1px, 1px, 1px);height: 1px;margin: -1px;overflow: hidden;padding: 0;position: absolute;width: 1px;}#sk-container-id-13 div.sk-estimator {font-family: monospace;background-color: #f0f8ff;border: 1px dotted black;border-radius: 0.25em;box-sizing: border-box;margin-bottom: 0.5em;}#sk-container-id-13 div.sk-estimator:hover {background-color: #d4ebff;}#sk-container-id-13 div.sk-parallel-item::after {content: \"\";width: 100%;border-bottom: 1px solid gray;flex-grow: 1;}#sk-container-id-13 div.sk-label:hover label.sk-toggleable__label {background-color: #d4ebff;}#sk-container-id-13 div.sk-serial::before {content: \"\";position: absolute;border-left: 1px solid gray;box-sizing: border-box;top: 0;bottom: 0;left: 50%;z-index: 0;}#sk-container-id-13 div.sk-serial {display: flex;flex-direction: column;align-items: center;background-color: white;padding-right: 0.2em;padding-left: 0.2em;position: relative;}#sk-container-id-13 div.sk-item {position: relative;z-index: 1;}#sk-container-id-13 div.sk-parallel {display: flex;align-items: stretch;justify-content: center;background-color: white;position: relative;}#sk-container-id-13 div.sk-item::before, #sk-container-id-13 div.sk-parallel-item::before {content: \"\";position: absolute;border-left: 1px solid gray;box-sizing: border-box;top: 0;bottom: 0;left: 50%;z-index: -1;}#sk-container-id-13 div.sk-parallel-item {display: flex;flex-direction: column;z-index: 1;position: relative;background-color: white;}#sk-container-id-13 div.sk-parallel-item:first-child::after {align-self: flex-end;width: 50%;}#sk-container-id-13 div.sk-parallel-item:last-child::after {align-self: flex-start;width: 50%;}#sk-container-id-13 div.sk-parallel-item:only-child::after {width: 0;}#sk-container-id-13 div.sk-dashed-wrapped {border: 1px dashed gray;margin: 0 0.4em 0.5em 0.4em;box-sizing: border-box;padding-bottom: 0.4em;background-color: white;}#sk-container-id-13 div.sk-label label {font-family: monospace;font-weight: bold;display: inline-block;line-height: 1.2em;}#sk-container-id-13 div.sk-label-container {text-align: center;}#sk-container-id-13 div.sk-container {/* jupyter's `normalize.less` sets `[hidden] { display: none; }` but bootstrap.min.css set `[hidden] { display: none !important; }` so we also need the `!important` here to be able to override the default hidden behavior on the sphinx rendered scikit-learn.org. See: https://github.com/scikit-learn/scikit-learn/issues/21755 */display: inline-block !important;position: relative;}#sk-container-id-13 div.sk-text-repr-fallback {display: none;}</style><div id=\"sk-container-id-13\" class=\"sk-top-container\"><div class=\"sk-text-repr-fallback\"><pre>LassoCV(cv=5, eps=0.1)</pre><b>In a Jupyter environment, please rerun this cell to show the HTML representation or trust the notebook. <br />On GitHub, the HTML representation is unable to render, please try loading this page with nbviewer.org.</b></div><div class=\"sk-container\" hidden><div class=\"sk-item\"><div class=\"sk-estimator sk-toggleable\"><input class=\"sk-toggleable__control sk-hidden--visually\" id=\"sk-estimator-id-13\" type=\"checkbox\" checked><label for=\"sk-estimator-id-13\" class=\"sk-toggleable__label sk-toggleable__label-arrow\">LassoCV</label><div class=\"sk-toggleable__content\"><pre>LassoCV(cv=5, eps=0.1)</pre></div></div></div></div></div>"
      ],
      "text/plain": [
       "LassoCV(cv=5, eps=0.1)"
      ]
     },
     "execution_count": 94,
     "metadata": {},
     "output_type": "execute_result"
    }
   ],
   "source": [
    "lasso_cv_model.fit(X_train,y_train)"
   ]
  },
  {
   "cell_type": "code",
   "execution_count": 95,
   "id": "7e0aaa18-751e-4e0e-ad1b-45aec03fd43d",
   "metadata": {},
   "outputs": [],
   "source": [
    "y_lassocv_predict=lasso_cv_model.predict(X_test)"
   ]
  },
  {
   "cell_type": "code",
   "execution_count": 96,
   "id": "ddd4bb8a-f180-4ab0-a71e-ff8c5bfd4501",
   "metadata": {},
   "outputs": [
    {
     "data": {
      "text/plain": [
       "0.6541714287492473"
      ]
     },
     "execution_count": 96,
     "metadata": {},
     "output_type": "execute_result"
    }
   ],
   "source": [
    "mean_absolute_error(y_test,y_lassocv_predict)"
   ]
  },
  {
   "cell_type": "code",
   "execution_count": 97,
   "id": "29ee4b44-2ae8-4e0a-a6d2-23715be564f1",
   "metadata": {},
   "outputs": [
    {
     "data": {
      "text/plain": [
       "1.2787267928052637"
      ]
     },
     "execution_count": 97,
     "metadata": {},
     "output_type": "execute_result"
    }
   ],
   "source": [
    "mean_squared_error(y_test,y_lassocv_predict)"
   ]
  },
  {
   "cell_type": "code",
   "execution_count": 98,
   "id": "6cd92619-272f-451c-952e-b4a2c859f3b6",
   "metadata": {},
   "outputs": [
    {
     "data": {
      "text/plain": [
       "0.4943070909225828"
      ]
     },
     "execution_count": 98,
     "metadata": {},
     "output_type": "execute_result"
    }
   ],
   "source": [
    "lasso_cv_model.alpha_"
   ]
  },
  {
   "cell_type": "code",
   "execution_count": 99,
   "id": "0eca5378-86b2-4d7f-8832-d3ae370c7733",
   "metadata": {},
   "outputs": [
    {
     "data": {
      "text/plain": [
       "array([1.00261117, 0.        , 0.        , 0.        , 3.79747867,\n",
       "       0.        , 0.        , 0.        , 0.        ])"
      ]
     },
     "execution_count": 99,
     "metadata": {},
     "output_type": "execute_result"
    }
   ],
   "source": [
    "lasso_cv_model.coef_"
   ]
  },
  {
   "cell_type": "code",
   "execution_count": 100,
   "id": "13d85ae6-2399-40f4-9080-1a3d167f045d",
   "metadata": {},
   "outputs": [],
   "source": [
    "from sklearn.linear_model import ElasticNetCV"
   ]
  },
  {
   "cell_type": "code",
   "execution_count": 101,
   "id": "e0d0eeda-c57a-42e8-8929-0938ef9d6f91",
   "metadata": {},
   "outputs": [],
   "source": [
    "elastic_model = ElasticNetCV(l1_ratio=[.1, .5, .7,.9, .95, .99, 1],tol=0.01)"
   ]
  },
  {
   "cell_type": "code",
   "execution_count": null,
   "id": "2e1bc238-6910-40f9-a5f9-6d3db912c4b9",
   "metadata": {},
   "outputs": [],
   "source": []
  }
 ],
 "metadata": {
  "kernelspec": {
   "display_name": "Python 3 (ipykernel)",
   "language": "python",
   "name": "python3"
  },
  "language_info": {
   "codemirror_mode": {
    "name": "ipython",
    "version": 3
   },
   "file_extension": ".py",
   "mimetype": "text/x-python",
   "name": "python",
   "nbconvert_exporter": "python",
   "pygments_lexer": "ipython3",
   "version": "3.11.5"
  }
 },
 "nbformat": 4,
 "nbformat_minor": 5
}
